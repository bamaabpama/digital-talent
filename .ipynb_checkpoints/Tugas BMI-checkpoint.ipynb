{
 "cells": [
  {
   "cell_type": "markdown",
   "metadata": {},
   "source": [
    "# BMI"
   ]
  },
  {
   "cell_type": "code",
   "execution_count": 18,
   "metadata": {},
   "outputs": [
    {
     "name": "stdout",
     "output_type": "stream",
     "text": [
      "BMI = 19.14672216441207\n",
      "your weight category is :\n",
      "Normal (healthy weight)\n"
     ]
    }
   ],
   "source": [
    "weight = 46\n",
    "height =155\n",
    "bmi = weight/(height/100)**2\n",
    "\n",
    "print(\"BMI =\",bmi)\n",
    "\n",
    "print(\"your weight category is :\")\n",
    "\n",
    "if bmi < 15:\n",
    "    print(\"Very severely underweight\")\n",
    "elif bmi < 16:\n",
    "    print(\"Severely underweight\")\n",
    "elif bmi < 18.5:\n",
    "    print(\"Underweight\")\n",
    "elif bmi < 25:\n",
    "    print(\"Normal (healthy weight)\")\n",
    "elif bmi < 30:\n",
    "    print(\"Overweight\")\n",
    "elif bmi < 35:\n",
    "    print(\"Moderately obese\")\n",
    "elif bmi < 40:\n",
    "    print(\"Severely obese\")\n",
    "else:\n",
    "          print(\"Very severely obese\")"
   ]
  },
  {
   "cell_type": "code",
   "execution_count": null,
   "metadata": {},
   "outputs": [],
   "source": []
  }
 ],
 "metadata": {
  "kernelspec": {
   "display_name": "Python 3",
   "language": "python",
   "name": "python3"
  },
  "language_info": {
   "codemirror_mode": {
    "name": "ipython",
    "version": 3
   },
   "file_extension": ".py",
   "mimetype": "text/x-python",
   "name": "python",
   "nbconvert_exporter": "python",
   "pygments_lexer": "ipython3",
   "version": "3.6.4"
  }
 },
 "nbformat": 4,
 "nbformat_minor": 2
}
