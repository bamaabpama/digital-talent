{
 "cells": [
  {
   "cell_type": "markdown",
   "metadata": {},
   "source": [
    "# TUGAS LATIHAN 2 - Tugas List Nilai\n",
    "\n",
    "Diberikan sekumpulan Nilai Random antara 0 sampai dengan 100 sebanyak 250 nilai. Buatlah program untuk melakukan hal berikut:\n",
    "1. Tampilkan Angka Ganjil dari ke 250 nilai tersebut\n",
    "2. Tampilkan berapa banyak yang mendapatkan nilai lebih dari 70\n",
    "3. Tampilkan standar deviasi dari sekumpulan nilai tersebut\n",
    "4. Tampilkan nilai maksimum dan minimum\n",
    "5. Tampilkan modus dari sekumpulan nilai tersebut"
   ]
  },
  {
   "cell_type": "code",
   "execution_count": 13,
   "metadata": {},
   "outputs": [
    {
     "name": "stdout",
     "output_type": "stream",
     "text": [
      "[25, 81, 94, 83, 1, 64, 16, 99, 81, 72, 27, 59, 23, 92, 80, 83, 98, 6, 67, 76, 87, 52, 41, 70, 70, 23, 1, 59, 78, 8, 19, 23, 9, 52, 96, 26, 64, 37, 11, 48, 77, 71, 77, 39, 71, 98, 83, 59, 73, 48, 21, 10, 71, 99, 64, 48, 26, 13, 94, 16, 62, 73, 91, 22, 96, 96, 59, 63, 52, 95, 41, 25, 99, 52, 11, 42, 81, 33, 2, 97, 38, 90, 43, 96, 37, 50, 39, 37, 91, 41, 51, 57, 86, 10, 96, 70, 52, 94, 84, 99, 29, 63, 91, 24, 79, 84, 72, 73, 24, 39, 21, 12, 68, 73, 69, 30, 90, 29, 76, 69, 62, 65, 35, 82, 9, 76, 61, 95, 41, 78, 96, 61, 22, 63, 59, 50, 30, 76, 11, 65, 65, 68, 7, 6, 14, 82, 21, 5, 43, 97, 22, 82, 14, 91, 62, 6, 43, 48, 46, 40, 55, 92, 88, 93, 98, 62, 82, 64, 84, 79, 95, 98, 22, 80, 24, 80, 28, 90, 61, 97, 85, 1, 40, 98, 33, 95, 25, 16, 1, 74, 92, 53, 18, 97, 42, 18, 5, 80, 95, 85, 74, 13, 7, 33, 85, 93, 62, 6, 13, 67, 67, 83, 68, 43, 18, 84, 15, 68, 70, 99, 74, 92, 73, 4, 46, 36, 58, 32, 84, 76, 90, 79, 55, 4, 81, 30, 32, 79, 83, 79, 2, 30, 24, 66, 7, 16, 68, 2, 69, 17]\n"
     ]
    }
   ],
   "source": [
    "import random\n",
    "\n",
    "# GENERATE RANDOM\n",
    "nilaiTugas = []\n",
    "for i in range(250):\n",
    "    nilaiTugas.append(random.randrange(1,100,1))\n",
    "\n",
    "print(nilaiTugas)\n",
    "\n",
    "# TAMPILKAN:\n",
    "# ganjil\n",
    "# nilai > 70\n",
    "# standar deviasi\n",
    "# maksimum\n",
    "# minimum\n",
    "# modus"
   ]
  },
  {
   "cell_type": "code",
   "execution_count": 15,
   "metadata": {},
   "outputs": [
    {
     "name": "stdout",
     "output_type": "stream",
     "text": [
      "Nilai Ganjil adalah = \n",
      " [25, 81, 83, 1, 99, 81, 27, 59, 23, 83, 67, 87, 41, 23, 1, 59, 19, 23, 9, 37, 11, 77, 71, 77, 39, 71, 83, 59, 73, 21, 71, 99, 13, 73, 91, 59, 63, 95, 41, 25, 99, 11, 81, 33, 97, 43, 37, 39, 37, 91, 41, 51, 57, 99, 29, 63, 91, 79, 73, 39, 21, 73, 69, 29, 69, 65, 35, 9, 61, 95, 41, 61, 63, 59, 11, 65, 65, 7, 21, 5, 43, 97, 91, 43, 55, 93, 79, 95, 61, 97, 85, 1, 33, 95, 25, 1, 53, 97, 5, 95, 85, 13, 7, 33, 85, 93, 13, 67, 67, 83, 43, 15, 99, 73, 79, 55, 81, 79, 83, 79, 7, 69, 17]\n"
     ]
    }
   ],
   "source": [
    "nilaiGanjil=[]\n",
    "for nilai in nilaiTugas:\n",
    "    if nilai%2!=0:\n",
    "        nilaiGanjil.append(nilai)\n",
    "print(\"Nilai Ganjil adalah = \\n\",nilaiGanjil)"
   ]
  },
  {
   "cell_type": "code",
   "execution_count": 16,
   "metadata": {},
   "outputs": [
    {
     "name": "stdout",
     "output_type": "stream",
     "text": [
      "Nilai lebih dari 70 adalah =\n",
      " [81, 94, 83, 99, 81, 72, 92, 80, 83, 98, 76, 87, 78, 96, 77, 71, 77, 71, 98, 83, 73, 71, 99, 94, 73, 91, 96, 96, 95, 99, 81, 97, 90, 96, 91, 86, 96, 94, 84, 99, 91, 79, 84, 72, 73, 73, 90, 76, 82, 76, 95, 78, 96, 76, 82, 97, 82, 91, 92, 88, 93, 98, 82, 84, 79, 95, 98, 80, 80, 90, 97, 85, 98, 95, 74, 92, 97, 80, 95, 85, 74, 85, 93, 83, 84, 99, 74, 92, 73, 84, 76, 90, 79, 81, 79, 83, 79]\n"
     ]
    }
   ],
   "source": [
    "nilaiLebih70 =[]\n",
    "for nilai in nilaiTugas:\n",
    "    if nilai>70:\n",
    "        nilaiLebih70.append(nilai)\n",
    "print(\"Nilai lebih dari 70 adalah =\\n\",nilaiLebih70)"
   ]
  },
  {
   "cell_type": "code",
   "execution_count": 35,
   "metadata": {},
   "outputs": [
    {
     "name": "stdout",
     "output_type": "stream",
     "text": [
      "Standar Deviasi = 29.99042540545233\n"
     ]
    }
   ],
   "source": [
    "import math\n",
    "\n",
    "total=0\n",
    "for nilai in nilaiTugas:\n",
    "    total=total +nilai\n",
    "rata=total/len(nilaiTugas)\n",
    "#print(rata)\n",
    "\n",
    "varian = 0\n",
    "for nilai in nilaiTugas:\n",
    "    varian=varian +(rata-nilai)**2\n",
    "variance=varian/len(nilaiTugas)\n",
    "std=math.sqrt(variance)\n",
    "print(\"Standar Deviasi =\",std)\n",
    "\n",
    "#mean=sum(nilaiTugas)/len(nilaiTugas)\n",
    "#var=sum(pow(x-mean,2) for x in nilaiTugas)/len(nilaiTugas)\n",
    "#std=math.sqrt(var)"
   ]
  },
  {
   "cell_type": "code",
   "execution_count": 20,
   "metadata": {},
   "outputs": [
    {
     "name": "stdout",
     "output_type": "stream",
     "text": [
      "Nilai maksimum = 99\n",
      "Nilai minimum = 1\n"
     ]
    }
   ],
   "source": [
    "print(\"Nilai maksimum =\",max(nilaiTugas))\n",
    "print(\"Nilai minimum =\",min(nilaiTugas))"
   ]
  },
  {
   "cell_type": "code",
   "execution_count": 64,
   "metadata": {},
   "outputs": [
    {
     "name": "stdout",
     "output_type": "stream",
     "text": [
      "modus nilai tugas = 96 dengan frequensi = 6\n"
     ]
    }
   ],
   "source": [
    "count ={}\n",
    "max_count =0 \n",
    "max_item = None\n",
    "\n",
    "for nilai in nilaiTugas:\n",
    "    if nilai not in count:\n",
    "        #print(count)\n",
    "        count[nilai] =1\n",
    "    else:\n",
    "        count[nilai] +=1\n",
    "    if(count[nilai]) > max_count:\n",
    "        max_count = count[nilai]\n",
    "        max_item = nilai\n",
    "print(\"modus nilai tugas =\",max_item,\"dengan frequensi =\",max_count)"
   ]
  },
  {
   "cell_type": "markdown",
   "metadata": {},
   "source": [
    "# TUGAS LATIHAN 3 - Word Count\n",
    "Diberikan sebuah paragraf, hitunglah banyak kemunculan masing-masing kata.\n",
    "Contoh : \"Presiden pagi ini melakukan kunjungan ke Jogja\"\n",
    "\n",
    "- presiden: 1\n",
    "- pagi: 1\n",
    "- ini: 1\n",
    "- melakukan: 1\n",
    "- kunjungan: 1\n",
    "- ke: 1\n",
    "- jogja: 1\n",
    "\n",
    "hints: Gunakan Dictionary dalam menyimpan word count. Gunakan kata sebagai key, dan jumlah kemunculan sebagai value"
   ]
  },
  {
   "cell_type": "code",
   "execution_count": 59,
   "metadata": {},
   "outputs": [
    {
     "name": "stdout",
     "output_type": "stream",
     "text": [
      "Barcelona berhasil merebut posisi puncak klasemen La Liga Spanyol seusai menang 4-2 atas Sevilla pada pertandingan pekan kesembilan di Stadion Camp Nou, Sabtu (20/10/2018) atau Minggu dini hari WIB. Barcelona membuka keunggulan pada menit ke-2 melalui gol yang dicetak oleh Philippe Coutinho. Lionel Messi menggandakan keunggulan Barcelona, 10 menit berselang.  Namun, nahas bagi Barcelona, karena Messi harus ditarik keluar pada menit ke-26 setelah mengalami cedera. Tanpa Messi, skor 2-0 bertahan hingga babak pertama berakhir.\n"
     ]
    }
   ],
   "source": [
    "paragraf = \"Barcelona berhasil merebut posisi puncak klasemen La Liga Spanyol seusai menang 4-2 atas Sevilla pada pertandingan pekan kesembilan di Stadion Camp Nou, Sabtu (20/10/2018) atau Minggu dini hari WIB. Barcelona membuka keunggulan pada menit ke-2 melalui gol yang dicetak oleh Philippe Coutinho. Lionel Messi menggandakan keunggulan Barcelona, 10 menit berselang.  Namun, nahas bagi Barcelona, karena Messi harus ditarik keluar pada menit ke-26 setelah mengalami cedera. Tanpa Messi, skor 2-0 bertahan hingga babak pertama berakhir.\"\n",
    "print(paragraf)"
   ]
  },
  {
   "cell_type": "code",
   "execution_count": 60,
   "metadata": {},
   "outputs": [
    {
     "name": "stdout",
     "output_type": "stream",
     "text": [
      "['barcelona', 'berhasil', 'merebut', 'posisi', 'puncak', 'klasemen', 'la', 'liga', 'spanyol', 'seusai', 'menang', '4', '2', 'atas', 'sevilla', 'pada', 'pertandingan', 'pekan', 'kesembilan', 'di', 'stadion', 'camp', 'nou', 'sabtu', '(20/10/2018)', 'atau', 'minggu', 'dini', 'hari', 'wib', 'barcelona', 'membuka', 'keunggulan', 'pada', 'menit', 'ke', '2', 'melalui', 'gol', 'yang', 'dicetak', 'oleh', 'philippe', 'coutinho', 'lionel', 'messi', 'menggandakan', 'keunggulan', 'barcelona', '10', 'menit', 'berselang', 'namun', 'nahas', 'bagi', 'barcelona', 'karena', 'messi', 'harus', 'ditarik', 'keluar', 'pada', 'menit', 'ke', '26', 'setelah', 'mengalami', 'cedera', 'tanpa', 'messi', 'skor', '2', '0', 'bertahan', 'hingga', 'babak', 'pertama', 'berakhir']\n"
     ]
    }
   ],
   "source": [
    "for char in '-.,\\n':\n",
    "    paragraf=paragraf.replace(char,' ')\n",
    "paragraf = paragraf.lower()\n",
    "\n",
    "word_list = paragraf.split()\n",
    "print(word_list)"
   ]
  },
  {
   "cell_type": "code",
   "execution_count": 61,
   "metadata": {},
   "outputs": [
    {
     "name": "stdout",
     "output_type": "stream",
     "text": [
      "{'barcelona': 4, 'berhasil': 1, 'merebut': 1, 'posisi': 1, 'puncak': 1, 'klasemen': 1, 'la': 1, 'liga': 1, 'spanyol': 1, 'seusai': 1, 'menang': 1, '4': 1, '2': 3, 'atas': 1, 'sevilla': 1, 'pada': 3, 'pertandingan': 1, 'pekan': 1, 'kesembilan': 1, 'di': 1, 'stadion': 1, 'camp': 1, 'nou': 1, 'sabtu': 1, '(20/10/2018)': 1, 'atau': 1, 'minggu': 1, 'dini': 1, 'hari': 1, 'wib': 1, 'membuka': 1, 'keunggulan': 2, 'menit': 3, 'ke': 2, 'melalui': 1, 'gol': 1, 'yang': 1, 'dicetak': 1, 'oleh': 1, 'philippe': 1, 'coutinho': 1, 'lionel': 1, 'messi': 3, 'menggandakan': 1, '10': 1, 'berselang': 1, 'namun': 1, 'nahas': 1, 'bagi': 1, 'karena': 1, 'harus': 1, 'ditarik': 1, 'keluar': 1, '26': 1, 'setelah': 1, 'mengalami': 1, 'cedera': 1, 'tanpa': 1, 'skor': 1, '0': 1, 'bertahan': 1, 'hingga': 1, 'babak': 1, 'pertama': 1, 'berakhir': 1}\n"
     ]
    },
    {
     "data": {
      "text/plain": [
       "{'(20/10/2018)': 1,\n",
       " '0': 1,\n",
       " '10': 1,\n",
       " '2': 3,\n",
       " '26': 1,\n",
       " '4': 1,\n",
       " 'atas': 1,\n",
       " 'atau': 1,\n",
       " 'babak': 1,\n",
       " 'bagi': 1,\n",
       " 'barcelona': 4,\n",
       " 'berakhir': 1,\n",
       " 'berhasil': 1,\n",
       " 'berselang': 1,\n",
       " 'bertahan': 1,\n",
       " 'camp': 1,\n",
       " 'cedera': 1,\n",
       " 'coutinho': 1,\n",
       " 'di': 1,\n",
       " 'dicetak': 1,\n",
       " 'dini': 1,\n",
       " 'ditarik': 1,\n",
       " 'gol': 1,\n",
       " 'hari': 1,\n",
       " 'harus': 1,\n",
       " 'hingga': 1,\n",
       " 'karena': 1,\n",
       " 'ke': 2,\n",
       " 'keluar': 1,\n",
       " 'kesembilan': 1,\n",
       " 'keunggulan': 2,\n",
       " 'klasemen': 1,\n",
       " 'la': 1,\n",
       " 'liga': 1,\n",
       " 'lionel': 1,\n",
       " 'melalui': 1,\n",
       " 'membuka': 1,\n",
       " 'menang': 1,\n",
       " 'mengalami': 1,\n",
       " 'menggandakan': 1,\n",
       " 'menit': 3,\n",
       " 'merebut': 1,\n",
       " 'messi': 3,\n",
       " 'minggu': 1,\n",
       " 'nahas': 1,\n",
       " 'namun': 1,\n",
       " 'nou': 1,\n",
       " 'oleh': 1,\n",
       " 'pada': 3,\n",
       " 'pekan': 1,\n",
       " 'pertama': 1,\n",
       " 'pertandingan': 1,\n",
       " 'philippe': 1,\n",
       " 'posisi': 1,\n",
       " 'puncak': 1,\n",
       " 'sabtu': 1,\n",
       " 'setelah': 1,\n",
       " 'seusai': 1,\n",
       " 'sevilla': 1,\n",
       " 'skor': 1,\n",
       " 'spanyol': 1,\n",
       " 'stadion': 1,\n",
       " 'tanpa': 1,\n",
       " 'wib': 1,\n",
       " 'yang': 1}"
      ]
     },
     "execution_count": 61,
     "metadata": {},
     "output_type": "execute_result"
    }
   ],
   "source": [
    "dictionary = {}\n",
    "for word in word_list:\n",
    "    if word not in dictionary:\n",
    "        dictionary[word]=0\n",
    "    dictionary[word] += 1\n",
    "\n",
    "print(dictionary)\n",
    "dictionary"
   ]
  },
  {
   "cell_type": "code",
   "execution_count": null,
   "metadata": {},
   "outputs": [],
   "source": []
  }
 ],
 "metadata": {
  "kernelspec": {
   "display_name": "Python 3",
   "language": "python",
   "name": "python3"
  },
  "language_info": {
   "codemirror_mode": {
    "name": "ipython",
    "version": 3
   },
   "file_extension": ".py",
   "mimetype": "text/x-python",
   "name": "python",
   "nbconvert_exporter": "python",
   "pygments_lexer": "ipython3",
   "version": "3.6.4"
  }
 },
 "nbformat": 4,
 "nbformat_minor": 2
}
