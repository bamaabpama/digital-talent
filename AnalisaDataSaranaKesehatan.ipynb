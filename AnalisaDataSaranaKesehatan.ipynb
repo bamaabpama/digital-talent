{
 "cells": [
  {
   "cell_type": "markdown",
   "metadata": {},
   "source": [
    "## Data Sarana Kesehatan Per Provinsi\n",
    "Dataset ini berisi mengenai data sarana kesehatan per provinsi di Indonesia. data sarana kesehatan ini merupakan data dalam rentang waktu dari tahun 2000 sampai 2012\n",
    "\n",
    "Penjelasan mengenai Variabel pada Dataset ini:\n",
    "\n",
    "- kode_provinsi: Kode_Provinsi\n",
    "- nama_provinsi: Nama Provinsi\n",
    "- jenis_sarana_kesehatan: Jenis Sarana Kesehatan\n",
    "- jumlah: Jumlah sarana kesehatan\n",
    "\n",
    "sumber data:\n",
    "- http://www.data.go.id\n",
    "- http://www.bankdata.depkes.go.id/nasional/public/report/"
   ]
  },
  {
   "cell_type": "markdown",
   "metadata": {},
   "source": [
    "## 1. Statistik data"
   ]
  },
  {
   "cell_type": "code",
   "execution_count": 3,
   "metadata": {},
   "outputs": [],
   "source": [
    "import pandas as pd\n",
    "sarana_kesehatan = pd.read_csv('processed-data-sarana-kesehatan-per-provinsi-2000-2012.csv',encoding=\"utf-8\")"
   ]
  },
  {
   "cell_type": "code",
   "execution_count": 4,
   "metadata": {},
   "outputs": [
    {
     "data": {
      "text/html": [
       "<div>\n",
       "<style scoped>\n",
       "    .dataframe tbody tr th:only-of-type {\n",
       "        vertical-align: middle;\n",
       "    }\n",
       "\n",
       "    .dataframe tbody tr th {\n",
       "        vertical-align: top;\n",
       "    }\n",
       "\n",
       "    .dataframe thead th {\n",
       "        text-align: right;\n",
       "    }\n",
       "</style>\n",
       "<table border=\"1\" class=\"dataframe\">\n",
       "  <thead>\n",
       "    <tr style=\"text-align: right;\">\n",
       "      <th></th>\n",
       "      <th>kode_provinsi</th>\n",
       "      <th>nama_provinsi</th>\n",
       "      <th>jenis_sarana_kesehatan</th>\n",
       "      <th>tahun</th>\n",
       "      <th>jumlah</th>\n",
       "    </tr>\n",
       "  </thead>\n",
       "  <tbody>\n",
       "    <tr>\n",
       "      <th>0</th>\n",
       "      <td>11</td>\n",
       "      <td>Prov. Nanggroe Aceh Darussalam</td>\n",
       "      <td>Polindes</td>\n",
       "      <td>2000</td>\n",
       "      <td>2938</td>\n",
       "    </tr>\n",
       "    <tr>\n",
       "      <th>1</th>\n",
       "      <td>11</td>\n",
       "      <td>Prov. Nanggroe Aceh Darussalam</td>\n",
       "      <td>Polindes</td>\n",
       "      <td>2001</td>\n",
       "      <td>1075</td>\n",
       "    </tr>\n",
       "    <tr>\n",
       "      <th>2</th>\n",
       "      <td>11</td>\n",
       "      <td>Prov. Nanggroe Aceh Darussalam</td>\n",
       "      <td>Polindes</td>\n",
       "      <td>2002</td>\n",
       "      <td>3358</td>\n",
       "    </tr>\n",
       "    <tr>\n",
       "      <th>3</th>\n",
       "      <td>11</td>\n",
       "      <td>Prov. Nanggroe Aceh Darussalam</td>\n",
       "      <td>Polindes</td>\n",
       "      <td>2003</td>\n",
       "      <td>0</td>\n",
       "    </tr>\n",
       "    <tr>\n",
       "      <th>4</th>\n",
       "      <td>11</td>\n",
       "      <td>Prov. Nanggroe Aceh Darussalam</td>\n",
       "      <td>Polindes</td>\n",
       "      <td>2004</td>\n",
       "      <td>1929</td>\n",
       "    </tr>\n",
       "  </tbody>\n",
       "</table>\n",
       "</div>"
      ],
      "text/plain": [
       "   kode_provinsi                   nama_provinsi jenis_sarana_kesehatan  \\\n",
       "0             11  Prov. Nanggroe Aceh Darussalam               Polindes   \n",
       "1             11  Prov. Nanggroe Aceh Darussalam               Polindes   \n",
       "2             11  Prov. Nanggroe Aceh Darussalam               Polindes   \n",
       "3             11  Prov. Nanggroe Aceh Darussalam               Polindes   \n",
       "4             11  Prov. Nanggroe Aceh Darussalam               Polindes   \n",
       "\n",
       "   tahun  jumlah  \n",
       "0   2000    2938  \n",
       "1   2001    1075  \n",
       "2   2002    3358  \n",
       "3   2003       0  \n",
       "4   2004    1929  "
      ]
     },
     "execution_count": 4,
     "metadata": {},
     "output_type": "execute_result"
    }
   ],
   "source": [
    "sarana_kesehatan.head()"
   ]
  },
  {
   "cell_type": "code",
   "execution_count": 5,
   "metadata": {},
   "outputs": [
    {
     "data": {
      "text/html": [
       "<div>\n",
       "<style scoped>\n",
       "    .dataframe tbody tr th:only-of-type {\n",
       "        vertical-align: middle;\n",
       "    }\n",
       "\n",
       "    .dataframe tbody tr th {\n",
       "        vertical-align: top;\n",
       "    }\n",
       "\n",
       "    .dataframe thead th {\n",
       "        text-align: right;\n",
       "    }\n",
       "</style>\n",
       "<table border=\"1\" class=\"dataframe\">\n",
       "  <thead>\n",
       "    <tr style=\"text-align: right;\">\n",
       "      <th></th>\n",
       "      <th>kode_provinsi</th>\n",
       "      <th>nama_provinsi</th>\n",
       "      <th>jenis_sarana_kesehatan</th>\n",
       "      <th>tahun</th>\n",
       "      <th>jumlah</th>\n",
       "    </tr>\n",
       "  </thead>\n",
       "  <tbody>\n",
       "    <tr>\n",
       "      <th>1711</th>\n",
       "      <td>94</td>\n",
       "      <td>Prov. Papua</td>\n",
       "      <td>Pustu</td>\n",
       "      <td>2008</td>\n",
       "      <td>649</td>\n",
       "    </tr>\n",
       "    <tr>\n",
       "      <th>1712</th>\n",
       "      <td>94</td>\n",
       "      <td>Prov. Papua</td>\n",
       "      <td>Pustu</td>\n",
       "      <td>2009</td>\n",
       "      <td>550</td>\n",
       "    </tr>\n",
       "    <tr>\n",
       "      <th>1713</th>\n",
       "      <td>94</td>\n",
       "      <td>Prov. Papua</td>\n",
       "      <td>Pustu</td>\n",
       "      <td>2010</td>\n",
       "      <td>550</td>\n",
       "    </tr>\n",
       "    <tr>\n",
       "      <th>1714</th>\n",
       "      <td>94</td>\n",
       "      <td>Prov. Papua</td>\n",
       "      <td>Pustu</td>\n",
       "      <td>2011</td>\n",
       "      <td>550</td>\n",
       "    </tr>\n",
       "    <tr>\n",
       "      <th>1715</th>\n",
       "      <td>94</td>\n",
       "      <td>Prov. Papua</td>\n",
       "      <td>Pustu</td>\n",
       "      <td>2012</td>\n",
       "      <td>550</td>\n",
       "    </tr>\n",
       "  </tbody>\n",
       "</table>\n",
       "</div>"
      ],
      "text/plain": [
       "      kode_provinsi nama_provinsi jenis_sarana_kesehatan  tahun  jumlah\n",
       "1711             94   Prov. Papua                  Pustu   2008     649\n",
       "1712             94   Prov. Papua                  Pustu   2009     550\n",
       "1713             94   Prov. Papua                  Pustu   2010     550\n",
       "1714             94   Prov. Papua                  Pustu   2011     550\n",
       "1715             94   Prov. Papua                  Pustu   2012     550"
      ]
     },
     "execution_count": 5,
     "metadata": {},
     "output_type": "execute_result"
    }
   ],
   "source": [
    "sarana_kesehatan.tail()"
   ]
  },
  {
   "cell_type": "code",
   "execution_count": 6,
   "metadata": {},
   "outputs": [
    {
     "data": {
      "text/plain": [
       "kode_provinsi             1716\n",
       "nama_provinsi             1716\n",
       "jenis_sarana_kesehatan    1716\n",
       "tahun                     1716\n",
       "jumlah                    1716\n",
       "dtype: int64"
      ]
     },
     "execution_count": 6,
     "metadata": {},
     "output_type": "execute_result"
    }
   ],
   "source": [
    "sarana_kesehatan.count()"
   ]
  },
  {
   "cell_type": "code",
   "execution_count": 7,
   "metadata": {},
   "outputs": [
    {
     "data": {
      "text/plain": [
       "Index(['kode_provinsi', 'nama_provinsi', 'jenis_sarana_kesehatan', 'tahun',\n",
       "       'jumlah'],\n",
       "      dtype='object')"
      ]
     },
     "execution_count": 7,
     "metadata": {},
     "output_type": "execute_result"
    }
   ],
   "source": [
    "sarana_kesehatan.columns"
   ]
  },
  {
   "cell_type": "code",
   "execution_count": 11,
   "metadata": {},
   "outputs": [
    {
     "name": "stdout",
     "output_type": "stream",
     "text": [
      "rata jumlah = 2121.513986013986\n",
      "rata tahun = 2006.0\n"
     ]
    }
   ],
   "source": [
    "rata_jumlah = sarana_kesehatan.jumlah.mean()\n",
    "rata_tahun = sarana_kesehatan.tahun.mean()\n",
    "print(\"rata jumlah =\",rata_jumlah)\n",
    "print(\"rata tahun =\",rata_tahun)"
   ]
  },
  {
   "cell_type": "code",
   "execution_count": 14,
   "metadata": {},
   "outputs": [
    {
     "name": "stdout",
     "output_type": "stream",
     "text": [
      "3640518\n",
      "47763\n",
      "0\n"
     ]
    }
   ],
   "source": [
    "total_jumlah = sarana_kesehatan.jumlah.sum()\n",
    "sarana_max = sarana_kesehatan.jumlah.max()\n",
    "sarana_min = sarana_kesehatan.jumlah.min()\n",
    "print(total_jumlah)\n",
    "print(sarana_max)\n",
    "print(sarana_min)"
   ]
  },
  {
   "cell_type": "code",
   "execution_count": 21,
   "metadata": {},
   "outputs": [
    {
     "data": {
      "text/plain": [
       "nama_provinsi         jenis_sarana_kesehatan  tahun\n",
       "Prov. Bali            Polindes                2000       316\n",
       "                                              2001       333\n",
       "                                              2002       348\n",
       "                                              2003       256\n",
       "                                              2004       254\n",
       "                                              2005       236\n",
       "                                              2006       262\n",
       "                                              2007       262\n",
       "                                              2008       154\n",
       "                                              2009         0\n",
       "                                              2010         0\n",
       "                                              2011         0\n",
       "                                              2012         0\n",
       "                      Posyandu                2000      4151\n",
       "                                              2001      4313\n",
       "                                              2002      4096\n",
       "                                              2003      3817\n",
       "                                              2004      4446\n",
       "                                              2005      4585\n",
       "                                              2006      4589\n",
       "                                              2007      4589\n",
       "                                              2008       712\n",
       "                                              2009      4719\n",
       "                                              2010      4719\n",
       "                                              2011      4719\n",
       "                                              2012      4719\n",
       "                      Puskesmas               2000       112\n",
       "                                              2001       107\n",
       "                                              2002       107\n",
       "                                              2003       108\n",
       "                                                       ...  \n",
       "Prov. Sumatera Utara  Posyandu                2009     13861\n",
       "                                              2010     13861\n",
       "                                              2011     13861\n",
       "                                              2012     13861\n",
       "                      Puskesmas               2000       399\n",
       "                                              2001       404\n",
       "                                              2002       411\n",
       "                                              2003       388\n",
       "                                              2004       423\n",
       "                                              2005       426\n",
       "                                              2006       445\n",
       "                                              2007       463\n",
       "                                              2008       495\n",
       "                                              2009       500\n",
       "                                              2010       500\n",
       "                                              2011       500\n",
       "                                              2012       500\n",
       "                      Pustu                   2000      1766\n",
       "                                              2001      1782\n",
       "                                              2002      1789\n",
       "                                              2003      1578\n",
       "                                              2004      1883\n",
       "                                              2005      1784\n",
       "                                              2006         0\n",
       "                                              2007         0\n",
       "                                              2008      1798\n",
       "                                              2009      1797\n",
       "                                              2010      1797\n",
       "                                              2011      1797\n",
       "                                              2012      1797\n",
       "Name: jumlah, Length: 1716, dtype: int64"
      ]
     },
     "execution_count": 21,
     "metadata": {},
     "output_type": "execute_result"
    }
   ],
   "source": [
    "sarana_kesehatan.groupby(['nama_provinsi','jenis_sarana_kesehatan','tahun']).sum()['jumlah']"
   ]
  },
  {
   "cell_type": "code",
   "execution_count": 61,
   "metadata": {},
   "outputs": [
    {
     "data": {
      "text/plain": [
       "nama_provinsi\n",
       "Prov. Bali                          1218.653846\n",
       "Prov. Banten                        1680.000000\n",
       "Prov. Bengkulu                       665.711538\n",
       "Prov. D I Yogyakarta                1379.692308\n",
       "Prov. DKI Jakarta                    948.461538\n",
       "Prov. Gorontalo                      352.538462\n",
       "Prov. Jambi                          853.846154\n",
       "Prov. Jawa Barat                   10263.173077\n",
       "Prov. Jawa Tengah                  12092.173077\n",
       "Prov. Jawa Timur                   11783.653846\n",
       "Prov. Kalimantan Barat              1263.519231\n",
       "Prov. Kalimantan Selatan            1147.115385\n",
       "Prov. Kalimantan Tengah              773.730769\n",
       "Prov. Kalimantan Timur              1182.250000\n",
       "Prov. Kepulauan Bangka Belitung      244.923077\n",
       "Prov. Kepulauan Riau                 165.538462\n",
       "Prov. Lampung                       2016.596154\n",
       "Prov. Maluku                         473.230769\n",
       "Prov. Maluku Utara                   223.653846\n",
       "Prov. Nanggroe Aceh Darussalam      1969.615385\n",
       "Prov. Nusa Tenggara Barat           1419.769231\n",
       "Prov. Nusa Tenggara Timur           2052.461538\n",
       "Prov. Papua                          955.519231\n",
       "Prov. Papua Barat                    198.192308\n",
       "Prov. Riau                          1216.576923\n",
       "Prov. Sulawesi Barat                 458.000000\n",
       "Prov. Sulawesi Selatan              2338.000000\n",
       "Prov. Sulawesi Tengah               1028.019231\n",
       "Prov. Sulawesi Tenggara              765.923077\n",
       "Prov. Sulawesi Utara                 748.711538\n",
       "Prov. Sumatera Barat                1847.980769\n",
       "Prov. Sumatera Selatan              1890.038462\n",
       "Prov. Sumatera Utara                4392.692308\n",
       "Name: jumlah, dtype: float64"
      ]
     },
     "execution_count": 61,
     "metadata": {},
     "output_type": "execute_result"
    }
   ],
   "source": [
    "sarana_kesehatan.groupby('nama_provinsi').mean()['jumlah']\n"
   ]
  },
  {
   "cell_type": "code",
   "execution_count": 65,
   "metadata": {},
   "outputs": [
    {
     "data": {
      "text/plain": [
       "jenis_sarana_kesehatan  tahun\n",
       "Polindes                2000      24074\n",
       "                        2001      26633\n",
       "                        2002      27925\n",
       "                        2003      25723\n",
       "                        2004      26975\n",
       "                        2005      28558\n",
       "                        2006      25754\n",
       "                        2007      25754\n",
       "                        2008      25271\n",
       "                        2009          0\n",
       "                        2010          0\n",
       "                        2011          0\n",
       "                        2012          0\n",
       "Posyandu                2000     245758\n",
       "                        2001     202676\n",
       "                        2002     220198\n",
       "                        2003     245154\n",
       "                        2004     238699\n",
       "                        2005     228659\n",
       "                        2006     269202\n",
       "                        2007     267609\n",
       "                        2008      70046\n",
       "                        2009     266827\n",
       "                        2010     266827\n",
       "                        2011     266827\n",
       "                        2012     266827\n",
       "Puskesmas               2000       7237\n",
       "                        2001       7277\n",
       "                        2002       7309\n",
       "                        2003       7413\n",
       "                        2004       7550\n",
       "                        2005       7669\n",
       "                        2006       8015\n",
       "                        2007       8234\n",
       "                        2008       8548\n",
       "                        2009       8737\n",
       "                        2010       8737\n",
       "                        2011       8737\n",
       "                        2012       8737\n",
       "Pustu                   2000      21267\n",
       "                        2001      21587\n",
       "                        2002      21790\n",
       "                        2003      21762\n",
       "                        2004      22002\n",
       "                        2005      22171\n",
       "                        2006          0\n",
       "                        2007          0\n",
       "                        2008      23163\n",
       "                        2009      22650\n",
       "                        2010      22650\n",
       "                        2011      22650\n",
       "                        2012      22650\n",
       "Name: jumlah, dtype: int64"
      ]
     },
     "execution_count": 65,
     "metadata": {},
     "output_type": "execute_result"
    }
   ],
   "source": [
    "sarana_kesehatan.groupby(['jenis_sarana_kesehatan','tahun']).sum()['jumlah']\n"
   ]
  },
  {
   "cell_type": "code",
   "execution_count": 27,
   "metadata": {},
   "outputs": [
    {
     "data": {
      "text/html": [
       "<div>\n",
       "<style scoped>\n",
       "    .dataframe tbody tr th:only-of-type {\n",
       "        vertical-align: middle;\n",
       "    }\n",
       "\n",
       "    .dataframe tbody tr th {\n",
       "        vertical-align: top;\n",
       "    }\n",
       "\n",
       "    .dataframe thead th {\n",
       "        text-align: right;\n",
       "    }\n",
       "</style>\n",
       "<table border=\"1\" class=\"dataframe\">\n",
       "  <thead>\n",
       "    <tr style=\"text-align: right;\">\n",
       "      <th></th>\n",
       "      <th>kode_provinsi</th>\n",
       "      <th>tahun</th>\n",
       "      <th>jumlah</th>\n",
       "    </tr>\n",
       "    <tr>\n",
       "      <th>jenis_sarana_kesehatan</th>\n",
       "      <th></th>\n",
       "      <th></th>\n",
       "      <th></th>\n",
       "    </tr>\n",
       "  </thead>\n",
       "  <tbody>\n",
       "    <tr>\n",
       "      <th>Polindes</th>\n",
       "      <td>47.030303</td>\n",
       "      <td>2006.0</td>\n",
       "      <td>551.671329</td>\n",
       "    </tr>\n",
       "    <tr>\n",
       "      <th>Posyandu</th>\n",
       "      <td>47.030303</td>\n",
       "      <td>2006.0</td>\n",
       "      <td>7121.932401</td>\n",
       "    </tr>\n",
       "    <tr>\n",
       "      <th>Puskesmas</th>\n",
       "      <td>47.030303</td>\n",
       "      <td>2006.0</td>\n",
       "      <td>242.890443</td>\n",
       "    </tr>\n",
       "    <tr>\n",
       "      <th>Pustu</th>\n",
       "      <td>47.030303</td>\n",
       "      <td>2006.0</td>\n",
       "      <td>569.561772</td>\n",
       "    </tr>\n",
       "  </tbody>\n",
       "</table>\n",
       "</div>"
      ],
      "text/plain": [
       "                        kode_provinsi   tahun       jumlah\n",
       "jenis_sarana_kesehatan                                    \n",
       "Polindes                    47.030303  2006.0   551.671329\n",
       "Posyandu                    47.030303  2006.0  7121.932401\n",
       "Puskesmas                   47.030303  2006.0   242.890443\n",
       "Pustu                       47.030303  2006.0   569.561772"
      ]
     },
     "execution_count": 27,
     "metadata": {},
     "output_type": "execute_result"
    }
   ],
   "source": [
    "sarana_kesehatan.groupby('jenis_sarana_kesehatan').mean()"
   ]
  },
  {
   "cell_type": "markdown",
   "metadata": {},
   "source": [
    "## 2. Visualisasi Data"
   ]
  },
  {
   "cell_type": "code",
   "execution_count": 56,
   "metadata": {},
   "outputs": [
    {
     "data": {
      "text/plain": [
       "Text(0,0.5,'jumlah')"
      ]
     },
     "execution_count": 56,
     "metadata": {},
     "output_type": "execute_result"
    },
    {
     "data": {
      "image/png": "[encoded data removed]",
      "text/plain": [
       "<matplotlib.figure.Figure at 0x1580ef20f98>"
      ]
     },
     "metadata": {},
     "output_type": "display_data"
    }
   ],
   "source": [
    "data = sarana_kesehatan.groupby('jenis_sarana_kesehatan').mean()['jumlah']\n",
    "data = data.plot(kind='bar', title =\"Rata-Rata Berdasarkan Jenis Sarana Kesehatan\", figsize=(7,7),legend=True, fontsize=12)\n",
    "data.set_xlabel(\"Sarana Kesehatan\", fontsize=12)\n",
    "data.set_ylabel(\"jumlah\", fontsize=12)"
   ]
  },
  {
   "cell_type": "code",
   "execution_count": 57,
   "metadata": {},
   "outputs": [
    {
     "data": {
      "text/plain": [
       "Text(0,0.5,'jumlah')"
      ]
     },
     "execution_count": 57,
     "metadata": {},
     "output_type": "execute_result"
    },
    {
     "data": {
      "image/png": "[encoded data removed]",
      "text/plain": [
       "<matplotlib.figure.Figure at 0x1580ec40198>"
      ]
     },
     "metadata": {},
     "output_type": "display_data"
    }
   ],
   "source": [
    "data = sarana_kesehatan.groupby('nama_provinsi').mean()['jumlah']\n",
    "data = data.plot(kind='bar', title =\"Rata-Rata Berdasarkan Provinsi\", figsize=(20,8),legend=True, fontsize=12)\n",
    "data.set_xlabel(\"Provinsi\", fontsize=12)\n",
    "data.set_ylabel(\"jumlah\", fontsize=12)"
   ]
  },
  {
   "cell_type": "markdown",
   "metadata": {},
   "source": [
    "berdasarkan data sarana kesehatan diatas bisa kita lihat bahwa dari keempat jenis sarana kesehatan di Indonesia, yang paling bannyak jumlahnya adalah posyandu dengan rata-rata jumlah 7121.932401 unit. kemudian disusul oleh pustu, polindes, dan terakhir oleh puskesmas.\n",
    "\n",
    "selanjutnya berdasarkan provinsi, 3 provinsi yang memiliki rata-rata jumlah sarana kesehatan tertinggi adalah Jawa Tengah, Jawa Timue, dan Jawa Barat. serta 3 provinsi yang memiliki rata-rata jumlah sarana kesehatan terendah adalah Papua Barat, Kepulauan Riau, dan Maluku Utara.\n",
    "\n",
    "jumlah sarana kesehatan ini dipengaruhi oleh tingkat pembangunan di suatu provinsi.\n",
    "kemudian data sarana kesehatan ini memiliki kekurangan dimana data setiap tahun masih ada terdapat data berjumlah 0, hal ini bisa jadi dikarenakan tidak ada update data.\n",
    "namun, data 0 ini bisa mempengaruhi dalam menghitung rata-rata jumlah sarana kesehatan."
   ]
  },
  {
   "cell_type": "code",
   "execution_count": null,
   "metadata": {},
   "outputs": [],
   "source": []
  }
 ],
 "metadata": {
  "kernelspec": {
   "display_name": "Python 3",
   "language": "python",
   "name": "python3"
  },
  "language_info": {
   "codemirror_mode": {
    "name": "ipython",
    "version": 3
   },
   "file_extension": ".py",
   "mimetype": "text/x-python",
   "name": "python",
   "nbconvert_exporter": "python",
   "pygments_lexer": "ipython3",
   "version": "3.6.4"
  }
 },
 "nbformat": 4,
 "nbformat_minor": 2
}
